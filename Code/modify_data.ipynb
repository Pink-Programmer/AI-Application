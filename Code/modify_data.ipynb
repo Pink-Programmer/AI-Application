{
 "cells": [
  {
   "cell_type": "markdown",
   "metadata": {},
   "source": [
    "## Assignment: Group–Project \n",
    "**ITE 351: AI & Applications**\n",
    "\n",
    "<u>**Group members:**</u>\n",
    "\n",
    "[TODO]"
   ]
  },
  {
   "cell_type": "markdown",
   "metadata": {},
   "source": [
    "The recommended format is the following:\\\n",
    "Title of your project\\\n",
    "Members: Name1, Department, University, Email\\\n",
    "Name2, Department, University, Email\\\n",
    "I. Introduction\\\n",
    "- Motivation: Why are you doing this?\\\n",
    "- What do you want to see at the end?\\\n",
    "II. Datasets\\\n",
    "- Describing your dataset\\\n",
    "III. Methodology\\\n",
    "- Explaining your choice of algorithms (methods)\\\n",
    "- Explaining features or code (if any)\\\n",
    "IV. Evaluation & Analysis\\\n",
    "- Graphs, tables, any statistics (if any)\\\n",
    "V. Related Work (e.g., existing studies)\\\n",
    "- Tools, libraries, blogs, or any documentation that you have used to do this project.\\\n",
    "VI. Conclusion: Discussion\\"
   ]
  },
  {
   "cell_type": "markdown",
   "metadata": {},
   "source": [
    "## Introduction"
   ]
  },
  {
   "cell_type": "markdown",
   "metadata": {},
   "source": [
    "## Dataset"
   ]
  },
  {
   "cell_type": "code",
   "execution_count": 5,
   "metadata": {},
   "outputs": [
    {
     "data": {
      "text/html": [
       "<div>\n",
       "<style scoped>\n",
       "    .dataframe tbody tr th:only-of-type {\n",
       "        vertical-align: middle;\n",
       "    }\n",
       "\n",
       "    .dataframe tbody tr th {\n",
       "        vertical-align: top;\n",
       "    }\n",
       "\n",
       "    .dataframe thead th {\n",
       "        text-align: right;\n",
       "    }\n",
       "</style>\n",
       "<table border=\"1\" class=\"dataframe\">\n",
       "  <thead>\n",
       "    <tr style=\"text-align: right;\">\n",
       "      <th></th>\n",
       "      <th>Date</th>\n",
       "      <th>Open</th>\n",
       "      <th>High</th>\n",
       "      <th>Low</th>\n",
       "      <th>Close</th>\n",
       "      <th>Adj Close</th>\n",
       "      <th>Volume</th>\n",
       "    </tr>\n",
       "  </thead>\n",
       "  <tbody>\n",
       "    <tr>\n",
       "      <th>0</th>\n",
       "      <td>2010-06-29</td>\n",
       "      <td>19.000000</td>\n",
       "      <td>25.000000</td>\n",
       "      <td>17.540001</td>\n",
       "      <td>23.889999</td>\n",
       "      <td>23.889999</td>\n",
       "      <td>18766300</td>\n",
       "    </tr>\n",
       "    <tr>\n",
       "      <th>1</th>\n",
       "      <td>2010-06-30</td>\n",
       "      <td>25.790001</td>\n",
       "      <td>30.420000</td>\n",
       "      <td>23.299999</td>\n",
       "      <td>23.830000</td>\n",
       "      <td>23.830000</td>\n",
       "      <td>17187100</td>\n",
       "    </tr>\n",
       "    <tr>\n",
       "      <th>2</th>\n",
       "      <td>2010-07-01</td>\n",
       "      <td>25.000000</td>\n",
       "      <td>25.920000</td>\n",
       "      <td>20.270000</td>\n",
       "      <td>21.959999</td>\n",
       "      <td>21.959999</td>\n",
       "      <td>8218800</td>\n",
       "    </tr>\n",
       "    <tr>\n",
       "      <th>3</th>\n",
       "      <td>2010-07-02</td>\n",
       "      <td>23.000000</td>\n",
       "      <td>23.100000</td>\n",
       "      <td>18.709999</td>\n",
       "      <td>19.200001</td>\n",
       "      <td>19.200001</td>\n",
       "      <td>5139800</td>\n",
       "    </tr>\n",
       "    <tr>\n",
       "      <th>4</th>\n",
       "      <td>2010-07-06</td>\n",
       "      <td>20.000000</td>\n",
       "      <td>20.000000</td>\n",
       "      <td>15.830000</td>\n",
       "      <td>16.110001</td>\n",
       "      <td>16.110001</td>\n",
       "      <td>6866900</td>\n",
       "    </tr>\n",
       "    <tr>\n",
       "      <th>5</th>\n",
       "      <td>2010-07-07</td>\n",
       "      <td>16.400000</td>\n",
       "      <td>16.629999</td>\n",
       "      <td>14.980000</td>\n",
       "      <td>15.800000</td>\n",
       "      <td>15.800000</td>\n",
       "      <td>6921700</td>\n",
       "    </tr>\n",
       "    <tr>\n",
       "      <th>6</th>\n",
       "      <td>2010-07-08</td>\n",
       "      <td>16.139999</td>\n",
       "      <td>17.520000</td>\n",
       "      <td>15.570000</td>\n",
       "      <td>17.459999</td>\n",
       "      <td>17.459999</td>\n",
       "      <td>7711400</td>\n",
       "    </tr>\n",
       "    <tr>\n",
       "      <th>7</th>\n",
       "      <td>2010-07-09</td>\n",
       "      <td>17.580000</td>\n",
       "      <td>17.900000</td>\n",
       "      <td>16.549999</td>\n",
       "      <td>17.400000</td>\n",
       "      <td>17.400000</td>\n",
       "      <td>4050600</td>\n",
       "    </tr>\n",
       "    <tr>\n",
       "      <th>8</th>\n",
       "      <td>2010-07-12</td>\n",
       "      <td>17.950001</td>\n",
       "      <td>18.070000</td>\n",
       "      <td>17.000000</td>\n",
       "      <td>17.049999</td>\n",
       "      <td>17.049999</td>\n",
       "      <td>2202500</td>\n",
       "    </tr>\n",
       "    <tr>\n",
       "      <th>9</th>\n",
       "      <td>2010-07-13</td>\n",
       "      <td>17.389999</td>\n",
       "      <td>18.639999</td>\n",
       "      <td>16.900000</td>\n",
       "      <td>18.139999</td>\n",
       "      <td>18.139999</td>\n",
       "      <td>2680100</td>\n",
       "    </tr>\n",
       "  </tbody>\n",
       "</table>\n",
       "</div>"
      ],
      "text/plain": [
       "         Date       Open       High        Low      Close  Adj Close    Volume\n",
       "0  2010-06-29  19.000000  25.000000  17.540001  23.889999  23.889999  18766300\n",
       "1  2010-06-30  25.790001  30.420000  23.299999  23.830000  23.830000  17187100\n",
       "2  2010-07-01  25.000000  25.920000  20.270000  21.959999  21.959999   8218800\n",
       "3  2010-07-02  23.000000  23.100000  18.709999  19.200001  19.200001   5139800\n",
       "4  2010-07-06  20.000000  20.000000  15.830000  16.110001  16.110001   6866900\n",
       "5  2010-07-07  16.400000  16.629999  14.980000  15.800000  15.800000   6921700\n",
       "6  2010-07-08  16.139999  17.520000  15.570000  17.459999  17.459999   7711400\n",
       "7  2010-07-09  17.580000  17.900000  16.549999  17.400000  17.400000   4050600\n",
       "8  2010-07-12  17.950001  18.070000  17.000000  17.049999  17.049999   2202500\n",
       "9  2010-07-13  17.389999  18.639999  16.900000  18.139999  18.139999   2680100"
      ]
     },
     "execution_count": 5,
     "metadata": {},
     "output_type": "execute_result"
    }
   ],
   "source": [
    "#Loading the csv file and get data\n",
    "import pandas as pd\n",
    "data = pd.DataFrame()\n",
    "path_datas = '../Datasets/Original/TSLA.csv'\n",
    "trade_data = pd.read_csv(path_datas ,sep = ',',)\n",
    "trade_data.head(10)"
   ]
  },
  {
   "cell_type": "code",
   "execution_count": null,
   "metadata": {},
   "outputs": [],
   "source": [
    "#\n",
    "columns_names = ['Open', 'High', 'Low', 'Close', 'Adj Close', 'Volume']\n",
    "\n",
    "# Kopie des DataFrames erstellen\n",
    "modified_trade_data = trade_data.copy()\n",
    "t_previous_days = 30\n",
    "\n",
    "for attribute in columns_names:\n",
    "    for i in range(1, t_previous_days + 1):\n",
    "        deviation_col_name = f'deviation_{attribute}_{i}'\n",
    "        modified_trade_data[deviation_col_name] = modified_trade_data[attribute] - modified_trade_data[attribute].shift(i)\n",
    "        \n",
    "        average_deviation_col_name = f'average_deviation_{attribute}'\n",
    "        modified_trade_data[average_deviation_col_name] = modified_trade_data[[f'deviation_{attribute}_{j}' for j in range(1, i + 1)]].mean(axis=1)\n",
    "\n",
    "    positive_deviation_col_name = f'positive_deviations_{attribute}'\n",
    "    modified_trade_data[positive_deviation_col_name] = 0\n",
    "    for i in range(1, t_previous_days + 1):\n",
    "        modified_trade_data[positive_deviation_col_name] += (modified_trade_data[f'deviation_{attribute}_{i}'] > 0).astype(int)\n",
    "\n",
    "    negative_deviation_col_name = f'negative_deviations_{attribute}'\n",
    "    modified_trade_data[negative_deviation_col_name] = 0\n",
    "    for i in range(1, t_previous_days + 1):\n",
    "        modified_trade_data[negative_deviation_col_name] += (modified_trade_data[f'deviation_{attribute}_{i}'] < 0).astype(int)\n",
    "\n",
    "for i in range(1, t_previous_days + 1):\n",
    "    diff_col_name_open_close = f'difference_open_close_{i}'\n",
    "    modified_trade_data[diff_col_name_open_close] = modified_trade_data['Open'] - modified_trade_data['Close'].shift(i)\n",
    "    \n",
    "\n",
    "    diff_col_name = f'difference_high_low_{i}'\n",
    "    modified_trade_data[diff_col_name] = modified_trade_data[attribute] - modified_trade_data[attribute].shift(i)\n",
    "\n",
    "average_diff_col_name = f'average_difference_high_low'\n",
    "modified_trade_data[average_diff_col_name] = modified_trade_data[diff_col_name].rolling(window=t_previous_days).mean()\n",
    "average_diff_col_name_open_close = f'average_difference_open_close'\n",
    "modified_trade_data[average_diff_col_name_open_close] = modified_trade_data[diff_col_name_open_close].rolling(window=t_previous_days).mean()\n",
    "\n",
    "\n",
    "modified_trade_data.dropna(inplace=True)\n",
    "modified_trade_data.head()\n"
   ]
  },
  {
   "cell_type": "code",
   "execution_count": 12,
   "metadata": {},
   "outputs": [],
   "source": [
    "column_names = modified_trade_data.columns.tolist()\n",
    "t_label_days = 10\n",
    "modified_trade_data.dropna(inplace=True)\n",
    "\n",
    "deviation_values = []\n",
    "for i in range(1, t_label_days + 1):\n",
    "    deviation_col_name = f'deviation_{i}'\n",
    "    modified_trade_data[deviation_col_name] = modified_trade_data['Low'].diff(i)\n",
    "    deviation_values.append(modified_trade_data[deviation_col_name])\n",
    "\n",
    "\n",
    "average_deviation = sum(deviation_values) / t_label_days\n",
    "\n",
    "modified_trade_data['Label'] = 0  # Initialisierung aller Labels als 0\n",
    "modified_trade_data = modified_trade_data[t_label_days:]\n",
    "average_deviation= average_deviation[t_label_days:]\n",
    "\n",
    "\n",
    "for index, deviation_value in average_deviation.items():\n",
    "    \n",
    "    if deviation_value < 0:\n",
    "        modified_trade_data.loc[index, 'Label'] = 0\n",
    "    else:\n",
    "        modified_trade_data.loc[index, 'Label'] = 1\n",
    "\n",
    "modified_trade_data.head(20)\n",
    "\n",
    "modified_trade_data.to_csv('modifierd_trade_data.csv', index=False)\n",
    "\n",
    "\n"
   ]
  },
  {
   "cell_type": "code",
   "execution_count": 13,
   "metadata": {},
   "outputs": [
    {
     "data": {
      "image/png": "[encoded data removed]",
      "text/plain": [
       "<Figure size 800x500 with 1 Axes>"
      ]
     },
     "metadata": {},
     "output_type": "display_data"
    }
   ],
   "source": [
    "import matplotlib.pyplot as plt\n",
    "import matplotlib.dates as mdates\n",
    "import pandas as pd\n",
    "\n",
    "df = modified_trade_data.copy()\n",
    "\n",
    "# Umwandlung der 'Date'-Spalte in ein Datumsformat\n",
    "df['Date'] = pd.to_datetime(df['Date'])\n",
    "\n",
    "# Zufällige Auswahl von 3 Datenpunkten mit Label 1 und 0\n",
    "label_1_points = df[df['Label'] == 1].sample(n=3)\n",
    "label_0_points = df[df['Label'] == 0].sample(n=3)\n",
    "\n",
    "plt.figure(figsize=(8, 5))\n",
    "\n",
    "# Plot der Datenreihe\n",
    "plt.plot(df['Date'], df['Low'], label='Data', color='lightblue')\n",
    "\n",
    "# Scatter-Plot für Label 1 und Label 0\n",
    "plt.scatter(label_1_points['Date'], label_1_points['Low'], color='green', label='Label 1', s=100)\n",
    "plt.scatter(label_0_points['Date'], label_0_points['Low'], color='red', label='Label 0', s=100)\n",
    "\n",
    "# Berechnung und Zeichnung der vertikalen Linien 150 Tage nach jedem Punkt\n",
    "for idx, point in label_1_points.iterrows():\n",
    "    plt.axvline(point['Date'] + pd.Timedelta(days=t_label_days), color='green', linestyle='--', alpha=0.7)\n",
    "    \n",
    "for idx, point in label_0_points.iterrows():\n",
    "    plt.axvline(point['Date'] + pd.Timedelta(days=t_label_days), color='red', linestyle='--', alpha=0.7)\n",
    "\n",
    "plt.legend()\n",
    "plt.xlabel('Date')\n",
    "plt.ylabel('Low')\n",
    "plt.title('Prediction for an increase of value (Label = 1)')\n",
    "\n",
    "# Setze Achsenbeschriftung auf jährliche Intervalle\n",
    "plt.gca().xaxis.set_major_locator(mdates.YearLocator())\n",
    "plt.gca().xaxis.set_major_formatter(mdates.DateFormatter('%Y'))\n",
    "\n",
    "plt.gcf().autofmt_xdate()\n",
    "\n",
    "plt.show()\n"
   ]
  },
  {
   "cell_type": "markdown",
   "metadata": {},
   "source": [
    "## Methodology"
   ]
  },
  {
   "cell_type": "code",
   "execution_count": null,
   "metadata": {},
   "outputs": [],
   "source": [
    "!pip install seaborn\n"
   ]
  },
  {
   "cell_type": "code",
   "execution_count": null,
   "metadata": {},
   "outputs": [],
   "source": [
    "!pip install scikit-learn\n"
   ]
  },
  {
   "cell_type": "code",
   "execution_count": null,
   "metadata": {},
   "outputs": [
    {
     "name": "stdout",
     "output_type": "stream",
     "text": [
      "Accuracy: 0.9391424619640387\n"
     ]
    }
   ],
   "source": [
    "from sklearn.datasets import load_iris\n",
    "from sklearn.model_selection import train_test_split\n",
    "from sklearn.tree import DecisionTreeClassifier\n",
    "from sklearn import metrics\n",
    "\n",
    "\n",
    "features = modified_trade_data.iloc[:, 1:-1]\n",
    "labels = modified_trade_data['Label']  # Das Label, das vorhergesagt werden soll\n",
    "# Teile den Datensatz in Trainings- und Testdaten auf\n",
    "X_train, X_test, y_train, y_test = train_test_split(features, labels, test_size=0.3, random_state=42)\n",
    "\n",
    "\n",
    "decision_tree_model_sklearn = DecisionTreeClassifier()\n",
    "\n",
    "decision_tree_model_sklearn.fit(X_train, y_train)\n",
    "\n",
    "y_pred_decision_tree_sklearn = decision_tree_model_sklearn.predict(X_test)\n",
    "\n",
    "# Evaluierung der Vorhersagegenauigkeit\n",
    "accuracy_decision_tree_sklearn = metrics.accuracy_score(y_test, y_pred_decision_tree_sklearn)\n",
    "print(\"Accuracy:\", accuracy_decision_tree_sklearn)"
   ]
  },
  {
   "cell_type": "code",
   "execution_count": null,
   "metadata": {},
   "outputs": [
    {
     "name": "stdout",
     "output_type": "stream",
     "text": [
      "Accuracy: 0.9612724757952974\n"
     ]
    }
   ],
   "source": [
    "import pandas as pd\n",
    "from sklearn.ensemble import RandomForestClassifier\n",
    "from sklearn.model_selection import train_test_split\n",
    "from sklearn.metrics import accuracy_score\n",
    "\n",
    "\n",
    "# features = modified_trade_data.iloc[:, 1:-1]\n",
    "# labels = modified_trade_data['Label']  \n",
    "\n",
    "# X_train, X_test, y_train, y_test = train_test_split(features, labels, test_size=0.2, random_state=42)\n",
    "\n",
    "# Build model and train(fit) it\n",
    "random_forest_model_sklearn = RandomForestClassifier(n_estimators=200, random_state=42)\n",
    "random_forest_model_sklearn.fit(X_train, y_train)\n",
    "\n",
    "# Test model by predicting based on the test data\n",
    "y_pred_random_forest_sklearn = random_forest_model_sklearn.predict(X_test)\n",
    "\n",
    "# Evaluation and calculaction of the accuracy\n",
    "accuracy_random_forest_sklearn = accuracy_score(y_test, y_pred_random_forest_sklearn)\n",
    "print(\"Accuracy:\", accuracy_random_forest_sklearn)\n",
    "\n"
   ]
  },
  {
   "cell_type": "markdown",
   "metadata": {},
   "source": [
    "### Models written in scratch"
   ]
  },
  {
   "cell_type": "markdown",
   "metadata": {},
   "source": [
    "### Decision Tree written in scratch"
   ]
  },
  {
   "cell_type": "code",
   "execution_count": null,
   "metadata": {},
   "outputs": [],
   "source": [
    "import numpy as np\n",
    "import pandas as pd\n",
    "\n",
    "class Tree_Node():\n",
    "    def __init__(self, feature_index=None, threshold=None, branch_1=None, branch_2=None, improvment=None, value=None):\n",
    "        self.feature_index = feature_index\n",
    "        self.threshold = threshold\n",
    "        self.branch_1 = branch_1\n",
    "        self.branch_2= branch_2\n",
    "        self.improvment = improvment\n",
    "        self.value = value\n",
    "\n",
    "class DecisionTree():\n",
    "    def __init__(self, min_datas_branching=7, max_depth=10):\n",
    "        self.root = None        \n",
    "        self.min_datas_branching = min_datas_branching\n",
    "        self.max_depth = max_depth\n",
    "        \n",
    "    def create_tree(self, dataset, curr_depth=0):\n",
    "        data = dataset[:,:-1]\n",
    "        label = dataset[:,-1]\n",
    "        number_of_datas, number_of_features = np.shape(data)\n",
    "        \n",
    "        if number_of_datas>self.min_datas_branching and curr_depth<=self.max_depth and number_of_datas > number_of_features:\n",
    "            best_branching = self.get_best_branching(dataset, number_of_datas, number_of_features)\n",
    "\n",
    "            if best_branching[\"improvment\"]>0: #if ==0, the node only consists of one type of class\n",
    "                branch_1_subtree = self.create_tree(best_branching[\"dataset_branch_1\"], curr_depth+1)\n",
    "                branch_2_subtree = self.create_tree(best_branching[\"dataset_branch_2\"], curr_depth+1)\n",
    "                return Tree_Node(best_branching[\"feature_index\"], best_branching[\"threshold\"], branch_1_subtree, branch_2_subtree, best_branching[\"improvment\"])\n",
    "        \n",
    "        leaf_value = self.calculate_leaf_value(label)\n",
    "        return Tree_Node(value=leaf_value)\n",
    "    \n",
    "    def get_best_branching(self, dataset, number_of_datas, number_of_features):\n",
    "        best_branching = {}\n",
    "        max_improvment = -float(\"inf\") \n",
    "\n",
    "        for feature_index in range(number_of_features):\n",
    "            feature_values = dataset[:, feature_index]\n",
    "            possible_thresholds = np.unique(feature_values)\n",
    "            for threshold in possible_thresholds:\n",
    "                dataset_branch_1, dataset_branch_2= self.branch_tree(dataset, feature_index, threshold)\n",
    "                if len(dataset_branch_1)>0 and len(dataset_branch_2)>0:\n",
    "                    label, label_branch_1, label_branch_2 = dataset[:, -1], dataset_branch_1[:, -1], dataset_branch_2[:, -1]\n",
    "                    new_improvment = self.information_gain(label, label_branch_1, label_branch_2, \"gini\")\n",
    "                    if new_improvment>max_improvment:\n",
    "                        best_branching[\"feature_index\"] = feature_index\n",
    "                        best_branching[\"threshold\"] = threshold\n",
    "                        best_branching[\"dataset_branch_1\"] = dataset_branch_1\n",
    "                        best_branching[\"dataset_branch_2\"] = dataset_branch_2\n",
    "                        best_branching[\"improvment\"] = new_improvment\n",
    "                        max_improvment = new_improvment\n",
    "        return best_branching\n",
    "    \n",
    "    def branch_tree(self, dataset, feature_index, threshold):\n",
    "        dataset_branch_1 = np.array([row for row in dataset if row[feature_index]<=threshold])\n",
    "        dataset_branch_2= np.array([row for row in dataset if row[feature_index]>threshold])\n",
    "        return dataset_branch_1, dataset_branch_2\n",
    "    \n",
    "    def information_gain(self, parent, l_child, r_child, mode=\"entropy\"):\n",
    "        weight_branch_a = len(l_child) / len(parent)\n",
    "        weight_branch_b = len(r_child) / len(parent)\n",
    "        if mode==\"gini\":\n",
    "            gain = self.gini_index(parent) - (weight_branch_a*self.gini_index(l_child) + weight_branch_b*self.gini_index(r_child))\n",
    "        else:\n",
    "            gain = self.entropy(parent) - (weight_branch_a*self.entropy(l_child) + weight_branch_b*self.entropy(r_child))\n",
    "        return gain\n",
    "    \n",
    "    def entropy(self, y):        \n",
    "        class_labels = np.unique(y)\n",
    "        entropy = 0\n",
    "        for cls in class_labels:\n",
    "            p_cls = len(y[y == cls]) / len(y)\n",
    "            entropy += -p_cls * np.log2(p_cls)\n",
    "        return entropy\n",
    "    \n",
    "    def gini_index(self, y):     \n",
    "        class_labels = np.unique(y)\n",
    "        gini = 0\n",
    "        for cls in class_labels:\n",
    "            p_cls = len(y[y == cls]) / len(y)\n",
    "            gini += p_cls**2\n",
    "        return 1 - gini\n",
    "        \n",
    "    def calculate_leaf_value(self, label):\n",
    "        label = list(label)\n",
    "        return max(label, key=label.count)\n",
    "    \n",
    "    def print_tree(self, tree=None, indent=\" \"):\n",
    "        if not tree:\n",
    "            tree = self.root\n",
    "\n",
    "        if tree.value is not None:\n",
    "            i = 0\n",
    "        else:\n",
    "            print(\"X_\"+str(tree.feature_index), \"<=\", tree.threshold, \"?\", tree.improvment)\n",
    "            print(\"%sbranch_1:\" % (indent), end=\"\")\n",
    "            self.print_tree(tree.branch_1, indent + indent)\n",
    "            print(\"%sbranch_2:\" % (indent), end=\"\")\n",
    "            self.print_tree(tree.branch_2, indent + indent)\n",
    "    \n",
    "    def fit(self, data, label):\n",
    "        label_array = label.reshape(-1, 1)\n",
    "        dataset = np.concatenate((data, label_array), axis=1)\n",
    "\n",
    "        self.root = self.create_tree(dataset)\n",
    "    \n",
    "    def predict(self, data): \n",
    "        preditions = [self.make_prediction(x, self.root) for x in data]\n",
    "        return preditions\n",
    "    \n",
    "    def make_prediction(self, x, tree):\n",
    "        if tree.value!=None: return tree.value\n",
    "        \n",
    "        feature_val = x[tree.feature_index]\n",
    "        if feature_val<=tree.threshold:\n",
    "            return self.make_prediction(x, tree.branch_1)\n",
    "        else:\n",
    "            return self.make_prediction(x, tree.branch_2)\n"
   ]
  },
  {
   "cell_type": "code",
   "execution_count": null,
   "metadata": {},
   "outputs": [
    {
     "name": "stdout",
     "output_type": "stream",
     "text": [
      "Accuracy: 0.8782287822878229\n"
     ]
    }
   ],
   "source": [
    "\n",
    "features = modified_trade_data.iloc[:, 1:-1].values\n",
    "\n",
    "labels = modified_trade_data.iloc[:, -1].values.reshape(-1,1)\n",
    "labels = modified_trade_data['Label']\n",
    "\n",
    "X_train, X_test, y_train, y_test_scratch_dt = train_test_split(features, labels, test_size=0.9, random_state=42)\n",
    "\n",
    "\n",
    "\n",
    "\n",
    "decision_tree_model_scratch = DecisionTree(min_datas_branching=2, max_depth=1)\n",
    "y_train = y_train.to_numpy()\n",
    "decision_tree_model_scratch.fit(X_train,y_train)\n",
    "\n",
    "decision_tree_model_scratch.fit(X_train,y_train)\n",
    "y_pred_decision_tree_scratch = decision_tree_model_scratch.predict(X_test)\n",
    "accuracy_decision_tree_scratch = metrics.accuracy_score(y_test_scratch_dt, y_pred_decision_tree_scratch)\n",
    "print(\"Accuracy:\", accuracy_decision_tree_scratch)\n",
    "\n",
    "\n",
    "\n"
   ]
  },
  {
   "cell_type": "markdown",
   "metadata": {},
   "source": [
    "### random forest scratch"
   ]
  },
  {
   "cell_type": "code",
   "execution_count": null,
   "metadata": {},
   "outputs": [],
   "source": [
    "import numpy as np\n",
    "from collections import Counter\n",
    "\n",
    "class RandomForest:\n",
    "    def __init__(self, n_trees=5, max_depth=2, min_datas_branching=2, n_feature=None):\n",
    "        self.n_trees = n_trees\n",
    "        self.max_depth=max_depth\n",
    "        self.min_datas_branching=min_datas_branching\n",
    "        self.n_features=n_feature\n",
    "        self.trees = []\n",
    "\n",
    "    def fit(self, X, y):\n",
    "        self.trees = []\n",
    "        for _ in range(self.n_trees):\n",
    "            tree = DecisionTree(max_depth=self.max_depth,\n",
    "                            min_datas_branching=self.min_datas_branching)\n",
    "            X_sample, y_sample = self.samples(X, y)\n",
    "            tree.fit(X_sample, y_sample)\n",
    "            self.trees.append(tree)\n",
    "\n",
    "    def samples(self, X, y):\n",
    "        n_samples = X.shape[0]\n",
    "        label_samples = y.to_numpy()\n",
    "        index = np.random.choice(n_samples, size=n_samples, replace=True)\n",
    "        return X[index], label_samples[index]\n",
    "    \n",
    "    def identify_most_common(self, y):\n",
    "        counter = Counter(y)\n",
    "        most_common_prediction = counter.most_common(1)[0][0]\n",
    "        return most_common_prediction\n",
    "\n",
    "    def predict(self, X):\n",
    "        predictions = np.array([tree.predict(X) for tree in self.trees])\n",
    "        tree_preds = np.swapaxes(predictions, 0, 1)\n",
    "        predictions = np.array([self.identify_most_common(pred) for pred in tree_preds])\n",
    "        return predictions"
   ]
  },
  {
   "cell_type": "code",
   "execution_count": null,
   "metadata": {},
   "outputs": [
    {
     "name": "stdout",
     "output_type": "stream",
     "text": [
      "Accuracy: 0.8805350553505535\n"
     ]
    }
   ],
   "source": [
    "\n",
    "features = modified_trade_data.iloc[:, 1:-1].values\n",
    "labels = modified_trade_data.iloc[:, -1].values.reshape(-1,1)\n",
    "labels = modified_trade_data['Label']\n",
    "X_train, X_test, y_train, y_test_scratch_rf = train_test_split(features, labels, test_size=0.9, random_state=42)\n",
    "random_forest_model_scratch = RandomForest()\n",
    "random_forest_model_scratch.fit(X_train,y_train)\n",
    "y_pred_random_forest_scratch = random_forest_model_scratch.predict(np.array(X_test))\n",
    "accuracy_random_forest_scratch = metrics.accuracy_score(y_test_scratch_rf, y_pred_random_forest_scratch)\n",
    "print(\"Accuracy:\", accuracy_random_forest_scratch)"
   ]
  },
  {
   "cell_type": "markdown",
   "metadata": {},
   "source": [
    "## Evaluation & Analysis"
   ]
  },
  {
   "cell_type": "markdown",
   "metadata": {},
   "source": [
    "### Accuracys"
   ]
  },
  {
   "cell_type": "code",
   "execution_count": null,
   "metadata": {},
   "outputs": [
    {
     "name": "stdout",
     "output_type": "stream",
     "text": [
      "Accuracy from Decision Tree:  0.9391424619640387\n",
      "Accuracy from Random Forest:  0.9612724757952974\n"
     ]
    }
   ],
   "source": [
    "print(\"Accuracy from Decision Tree: \", accuracy_decision_tree_sklearn)\n",
    "print(\"Accuracy from Random Forest: \", accuracy_random_forest_sklearn)"
   ]
  },
  {
   "cell_type": "code",
   "execution_count": null,
   "metadata": {},
   "outputs": [
    {
     "name": "stdout",
     "output_type": "stream",
     "text": [
      "Accuracy from Decision Tree coded in scratch:  0.8782287822878229\n",
      "Accuracy from Random Forest coded in scratch:  0.8805350553505535\n"
     ]
    }
   ],
   "source": [
    "print(\"Accuracy from Decision Tree coded in scratch: \", accuracy_decision_tree_scratch)\n",
    "print(\"Accuracy from Random Forest coded in scratch: \", accuracy_random_forest_scratch)"
   ]
  },
  {
   "cell_type": "markdown",
   "metadata": {},
   "source": [
    "### ROC"
   ]
  },
  {
   "cell_type": "code",
   "execution_count": null,
   "metadata": {},
   "outputs": [],
   "source": [
    "from sklearn.metrics import roc_curve\n",
    "import matplotlib.pyplot as plt\n",
    "\n",
    "def plot_roc(label, Y_test, Y_pred):\n",
    "    fpr, tpr, _ =  roc_curve(Y_test, Y_pred)\n",
    "    plt.plot(fpr,tpr, label=label)\n",
    "    plt.ylabel('True Positive Rate')\n",
    "    plt.xlabel('False Positive Rate')"
   ]
  },
  {
   "cell_type": "code",
   "execution_count": null,
   "metadata": {},
   "outputs": [
    {
     "data": {
      "image/png": "[encoded data removed]",
      "text/plain": [
       "<Figure size 640x480 with 1 Axes>"
      ]
     },
     "metadata": {},
     "output_type": "display_data"
    }
   ],
   "source": [
    "plot_roc('Decision Tree', y_test, y_pred_decision_tree_sklearn)\n",
    "plot_roc('Random Forest', y_test, y_pred_random_forest_sklearn)\n",
    "plt.legend()\n",
    "plt.title('ROC -Models from sklearn')\n",
    "plt.show()"
   ]
  },
  {
   "cell_type": "code",
   "execution_count": null,
   "metadata": {},
   "outputs": [
    {
     "data": {
      "image/png": "[encoded data removed]",
      "text/plain": [
       "<Figure size 640x480 with 1 Axes>"
      ]
     },
     "metadata": {},
     "output_type": "display_data"
    }
   ],
   "source": [
    "plot_roc('Decision Tree', y_test_scratch_dt, y_pred_decision_tree_scratch)\n",
    "plot_roc('Random Forest', y_test_scratch_rf, y_pred_random_forest_scratch)\n",
    "plt.legend()\n",
    "plt.title('ROC - Models from scratch')\n",
    "plt.show()"
   ]
  }
 ],
 "metadata": {
  "kernelspec": {
   "display_name": "Python 3",
   "language": "python",
   "name": "python3"
  },
  "language_info": {
   "codemirror_mode": {
    "name": "ipython",
    "version": 3
   },
   "file_extension": ".py",
   "mimetype": "text/x-python",
   "name": "python",
   "nbconvert_exporter": "python",
   "pygments_lexer": "ipython3",
   "version": "3.10.12"
  }
 },
 "nbformat": 4,
 "nbformat_minor": 2
}
